{
 "cells": [
  {
   "cell_type": "code",
   "execution_count": 2,
   "metadata": {},
   "outputs": [],
   "source": [
    "\n",
    "import pandas as pd\n",
    "import numpy as np\n",
    "import numpy.ma as ma \n",
    "import random  "
   ]
  },
  {
   "cell_type": "code",
   "execution_count": 3,
   "metadata": {},
   "outputs": [],
   "source": [
    "def df_to_array(excel_data):\n",
    "  data = pd.read_excel(excel_data)\n",
    "  tasks = list(range(0, len(data)))\n",
    "  data.pop('Zadanie')\n",
    "  times = data\n",
    "  times = np.array(times)\n",
    "  return times, tasks\n",
    "\n"
   ]
  },
  {
   "cell_type": "code",
   "execution_count": 4,
   "metadata": {},
   "outputs": [],
   "source": [
    "def generateCompletedTime(times, tasks):\n",
    "  completedTime = times.copy()\n",
    "  machinecCount = len(times[0])\n",
    "  # pierwszy wiersz\n",
    "  # j - index kolumny, i - index wiersza\n",
    "  completedTime[0][0] = times[tasks[0]][0]\n",
    "  i = 0\n",
    "  for j in range(1, machinecCount):\n",
    "    completedTime[i][j] = completedTime[i][j-1] + times[tasks[i]][j]\n",
    "  # pierwsza kolumna\n",
    "  # j - index kolumny, i - index wiersza\n",
    "  j = 0\n",
    "  for i in range(1, len(tasks)):\n",
    "    completedTime[i][j] = completedTime[i-1][j] + times[tasks[i]][j]\n",
    "  # środek\n",
    "  # j - index kolumny, i - index wiersza\n",
    "  for i in range(1, len(tasks)):\n",
    "    for j in range(1, machinecCount):\n",
    "      maxi = max(completedTime[i-1][j], completedTime[i][j-1])\n",
    "      completedTime[i][j] = maxi + times[tasks[i]][j]\n",
    "  return completedTime[len(tasks)-1][machinecCount-1]\n",
    "\n",
    "\n"
   ]
  },
  {
   "cell_type": "code",
   "execution_count": 5,
   "metadata": {},
   "outputs": [],
   "source": [
    "def sort(tasks,times):\n",
    "      for i in range(len(tasks)):\n",
    "         for j in range(i, len(tasks)):\n",
    "            if sum(times[tasks[i]]) < sum(times[tasks[j]]):\n",
    "               tasks[i], tasks[j] = tasks[j], tasks[i] \n",
    "      return tasks\n",
    "      "
   ]
  },
  {
   "cell_type": "code",
   "execution_count": 6,
   "metadata": {},
   "outputs": [],
   "source": [
    "def sort_schedules(schedules, times):\n",
    "    for i in range(1, len(schedules)):\n",
    "        k = schedules[i]\n",
    "        j = i-1\n",
    "        while j >= 0 and generateCompletedTime(times, schedules[j]) > generateCompletedTime(times, k):\n",
    "            schedules[j + 1] = schedules[j]\n",
    "            j -= 1\n",
    "        schedules[j + 1] = k\n",
    "    return schedules"
   ]
  },
  {
   "cell_type": "code",
   "execution_count": 7,
   "metadata": {},
   "outputs": [],
   "source": [
    "def changeIndices(indices):\n",
    "  return list(map(lambda x: x+1, indices))"
   ]
  },
  {
   "cell_type": "code",
   "execution_count": 8,
   "metadata": {},
   "outputs": [],
   "source": [
    "def neh_algorithm(times , tasks):\n",
    "    sort(tasks,times) # sortuje taski malejaco \n",
    "    schedules = [[]] #pusta lista kolejnosci \n",
    "    for task in tasks:\n",
    "        new_schedules = []\n",
    "        for schedule in schedules:\n",
    "            for i in range(len(schedule)+1):\n",
    "                new_schedule = schedule.copy()\n",
    "                new_schedule.insert(i, task)\n",
    "                new_schedules.append(new_schedule)\n",
    "        new_schedules = sort_schedules(new_schedules, times) # sortuje schedules po rosnacej dlugosci trasy\n",
    "        schedules[0] = new_schedules[0]  #wybieram najlepsza trase \n",
    "    time = generateCompletedTime(times, schedules[0])\n",
    "    route = changeIndices(schedules[0])\n",
    "    return time, route"
   ]
  }
 ],
 "metadata": {
  "kernelspec": {
   "display_name": "base",
   "language": "python",
   "name": "python3"
  },
  "language_info": {
   "codemirror_mode": {
    "name": "ipython",
    "version": 3
   },
   "file_extension": ".py",
   "mimetype": "text/x-python",
   "name": "python",
   "nbconvert_exporter": "python",
   "pygments_lexer": "ipython3",
   "version": "3.9.13"
  },
  "orig_nbformat": 4,
  "vscode": {
   "interpreter": {
    "hash": "f7a64871cfea804bfb52dd1175187d6e4a5e53e48323adb69106d41dd725fe56"
   }
  }
 },
 "nbformat": 4,
 "nbformat_minor": 2
}
