{
  "nbformat": 4,
  "nbformat_minor": 0,
  "metadata": {
    "colab": {
      "provenance": [],
      "collapsed_sections": [
        "7xpkHnip0HNS",
        "sFEecx3P0O4K",
        "3yPvEYGZESEU",
        "wdneFpdqEVaT",
        "HtxTF0lOgBVE",
        "pAbEx6uQgGyV",
        "ZLQt75HbUxNH"
      ]
    },
    "kernelspec": {
      "name": "python3",
      "display_name": "Python 3"
    },
    "language_info": {
      "name": "python"
    }
  },
  "cells": [
    {
      "cell_type": "markdown",
      "source": [
        "## Wstępne funkcje, main"
      ],
      "metadata": {
        "id": "09s76WG-DnX5"
      }
    },
    {
      "cell_type": "code",
      "execution_count": null,
      "metadata": {
        "id": "FDX92IM6rmbh"
      },
      "outputs": [],
      "source": [
        "import pandas as pd\n",
        "import numpy as np\n",
        "import random\n",
        "\n",
        "dane50 = \"Dane_PFSP_50_20.xlsx\"\n",
        "dane100 = \"Dane_PFSP_100_10.xlsx\"\n",
        "dane200 = \"Dane_PFSP_200_10.xlsx\"\n",
        "def generateRandomSolution(indices):\n",
        "    return random.sample(indices, len(indices))\n",
        "\n",
        "\n",
        "def generatePopulation(data):\n",
        "    indices = data\n",
        "    length = len(indices)\n",
        "    population = [generateRandomSolution(indices) for _ in range(length)]\n",
        "    return population\n"
      ]
    },
    {
      "cell_type": "code",
      "source": [
        "def mainSwapTournamentCrossingPMX(data, mutationPercentage, generations, numberPMX):\n",
        "    times, tasks = df_to_array(data)\n",
        "    population = generatePopulation(tasks)\n",
        "    bestPopulation = population\n",
        "    startingPopulation = population\n",
        "    startingPopulation.sort(key= lambda x: generateCompletedTime(times, x))\n",
        "    startingBest = startingPopulation[0]\n",
        "    startingTime = generateCompletedTime(times, startingBest)\n",
        "    bestDistance = 999999999999\n",
        "    stop = 0\n",
        "    for _ in range(generations):\n",
        "        if(stop>=10):\n",
        "          break      \n",
        "        population = tournamentSwapPMX(times, population, mutationPercentage,numberPMX)\n",
        "        population.sort(key= lambda x: generateCompletedTime(times, x))\n",
        "        distance = generateCompletedTime(times, population[0])        \n",
        "        delta = bestDistance - distance\n",
        "        if(delta<=0):\n",
        "          stop = stop+1\n",
        "        else:\n",
        "          stop = 0\n",
        "        if(distance<bestDistance):\n",
        "          bestDistance = distance\n",
        "          bestPopulation = population\n",
        "    bestPopulation[0] = changeIndices(bestPopulation[0])\n",
        "    print(f' TournamentPMX bestDistance : {bestDistance}  pm : {mutationPercentage}  generations : {generations}')\n",
        "    print(bestPopulation[0])\n",
        "    print(f'Starting best time : {startingTime}')\n",
        "    print(startingBest)\n",
        "    print(\"\")\n",
        "    return bestDistance"
      ],
      "metadata": {
        "id": "P6EnO5TVJMnk"
      },
      "execution_count": null,
      "outputs": []
    },
    {
      "cell_type": "code",
      "source": [
        "def mainSwapTournamentCrossingOX(data, mutationPercentage, generations, numberOX):\n",
        "    times, tasks = df_to_array(data)\n",
        "    population = generatePopulation(tasks)\n",
        "    bestPopulation = population\n",
        "    startingPopulation = population\n",
        "    startingPopulation.sort(key= lambda x: generateCompletedTime(times, x))\n",
        "    startingBest = startingPopulation[0]\n",
        "    startingTime = generateCompletedTime(times, startingBest)\n",
        "    bestDistance = 999999999999\n",
        "    stop = 0\n",
        "    for _ in range(generations):\n",
        "        if(stop>=10):\n",
        "          break      \n",
        "        population = tournamentSwapOX(times, population, mutationPercentage,numberOX)\n",
        "        population.sort(key= lambda x: generateCompletedTime(times, x))\n",
        "        distance = generateCompletedTime(times, population[0])        \n",
        "        delta = bestDistance - distance\n",
        "        if(delta<=0):\n",
        "          stop = stop+1\n",
        "        else:\n",
        "          stop = 0\n",
        "        if(distance<bestDistance):\n",
        "          bestDistance = distance\n",
        "          bestPopulation = population\n",
        "    bestPopulation[0] = changeIndices(bestPopulation[0])\n",
        "    print(f' TournamentOX bestDistance : {bestDistance}  pm : {mutationPercentage}  generations : {generations}')\n",
        "    print(bestPopulation[0])\n",
        "    print(f'Starting best time : {startingTime}')\n",
        "    print(startingBest)\n",
        "    print(\"\")\n",
        "    return "
      ],
      "metadata": {
        "id": "xc806K-ffO5n"
      },
      "execution_count": null,
      "outputs": []
    },
    {
      "cell_type": "code",
      "source": [
        "def mainSwapTurnicationCrossingPMX(data, mutationPercentage, generations, numberPMX):\n",
        "    times, tasks = df_to_array(data)\n",
        "    population = generatePopulation(tasks)\n",
        "    bestPopulation = population\n",
        "    startingPopulation = population\n",
        "    startingPopulation.sort(key= lambda x: generateCompletedTime(times, x))\n",
        "    startingBest = startingPopulation[0]\n",
        "    startingTime = generateCompletedTime(times, startingBest)\n",
        "    bestDistance = 999999999999\n",
        "    stop = 0\n",
        "    for _ in range(generations):\n",
        "        if(stop>=10):\n",
        "          break      \n",
        "        population = turnicationSwapPMX(times, population, mutationPercentage,numberPMX)\n",
        "        population.sort(key= lambda x: generateCompletedTime(times, x))\n",
        "        distance = generateCompletedTime(times, population[0])        \n",
        "        delta = bestDistance - distance\n",
        "        if(delta<=0):\n",
        "          stop = stop+1\n",
        "        else:\n",
        "          stop = 0\n",
        "        if(distance<bestDistance):\n",
        "          bestDistance = distance\n",
        "          bestPopulation = population\n",
        "    bestPopulation[0] = changeIndices(bestPopulation[0])\n",
        "    print(f' TurnicationPMX bestDistance : {bestDistance}  pm : {mutationPercentage}  generations : {generations}')\n",
        "    print(bestPopulation[0])\n",
        "    print(f'Starting best time : {startingTime}')\n",
        "    print(startingBest)\n",
        "    print(\"\")\n",
        "    return "
      ],
      "metadata": {
        "id": "NaCc_JwBCjuL"
      },
      "execution_count": null,
      "outputs": []
    },
    {
      "cell_type": "code",
      "source": [
        "#tournamentInvertPMX\n",
        "def mainInvertTournamentCrossingPMX(data, mutationPercentage, generations, numberPMX):\n",
        "    times, tasks = df_to_array(data)\n",
        "    population = generatePopulation(tasks)\n",
        "    bestPopulation = population\n",
        "    startingPopulation = population\n",
        "    startingPopulation.sort(key= lambda x: generateCompletedTime(times, x))\n",
        "    startingBest = startingPopulation[0]\n",
        "    startingTime = generateCompletedTime(times, startingBest)\n",
        "    bestDistance = 999999999999\n",
        "    stop = 0\n",
        "    for _ in range(generations):\n",
        "        if(stop>=10):\n",
        "          break      \n",
        "        population = tournamentInvertPMX(times, population, mutationPercentage,numberPMX)\n",
        "        population.sort(key= lambda x: generateCompletedTime(times, x))\n",
        "        distance = generateCompletedTime(times, population[0])        \n",
        "        delta = bestDistance - distance\n",
        "        if(delta<=0):\n",
        "          stop = stop+1\n",
        "        else:\n",
        "          stop = 0\n",
        "        if(distance<bestDistance):\n",
        "          bestDistance = distance\n",
        "          bestPopulation = population\n",
        "    bestPopulation[0] = changeIndices(bestPopulation[0])\n",
        "    print(f' TournamentPMX bestDistance : {bestDistance}  pm : {mutationPercentage}  generations : {generations}')\n",
        "    print(bestPopulation[0])\n",
        "    print(f'Starting best time : {startingTime}')\n",
        "    print(startingBest)\n",
        "    print(\"\")\n",
        "    return "
      ],
      "metadata": {
        "id": "ub5p4uz6v-HD"
      },
      "execution_count": null,
      "outputs": []
    },
    {
      "cell_type": "code",
      "source": [
        "def df_to_array(excel_data):\n",
        "  data = pd.read_excel(excel_data)\n",
        "  tasks = list(range(0, len(data)))\n",
        "  data.pop('Zadanie')\n",
        "  times = data\n",
        "  times = np.array(times)\n",
        "  return times, tasks\n",
        "\n",
        "def generateRandomSolution(indices):\n",
        "  indices = indices.copy()\n",
        "  randomSolution = []\n",
        "  for i in range(0, len(indices)):\n",
        "    randomIndex = random.randint(0, len(indices) - 1)\n",
        "    randomSolution.append(indices[randomIndex])\n",
        "    indices.pop(randomIndex)\n",
        "  return randomSolution\n",
        "\n",
        "def generateCompletedTime(times, tasks):\n",
        "  completedTime = times.copy()\n",
        "  machinecCount = len(times[0])\n",
        "  # pierwszy wiersz\n",
        "  # j - index kolumny, i - index wiersza\n",
        "  completedTime[0][0] = times[tasks[0]][0]\n",
        "  i = 0\n",
        "  for j in range(1, machinecCount):\n",
        "    completedTime[i][j] = completedTime[i][j-1] + times[tasks[i]][j]\n",
        "  # pierwsza kolumna\n",
        "  # j - index kolumny, i - index wiersza\n",
        "  j = 0\n",
        "  for i in range(1, len(tasks)):\n",
        "    completedTime[i][j] = completedTime[i-1][j] + times[tasks[i]][j]\n",
        "  # środek\n",
        "  # j - index kolumny, i - index wiersza\n",
        "  for i in range(1, len(tasks)):\n",
        "    for j in range(1, machinecCount):\n",
        "      maxi = max(completedTime[i-1][j], completedTime[i][j-1])\n",
        "      completedTime[i][j] = maxi + times[tasks[i]][j]\n",
        "  return completedTime[len(tasks)-1][machinecCount-1]\n",
        "\n",
        "def changeIndices(indices):\n",
        "  return list(map(lambda x: x+1, indices))"
      ],
      "metadata": {
        "id": "n-GwRCQjIzsi"
      },
      "execution_count": null,
      "outputs": []
    },
    {
      "cell_type": "code",
      "source": [
        "def checkIfIncludes(number, list_c):\n",
        "  includes = 0\n",
        "  for i in range(len(list_c)):\n",
        "    if list_c[i]==number:\n",
        "      includes=1\n",
        "  return includes"
      ],
      "metadata": {
        "id": "J5tQpC71d3GA"
      },
      "execution_count": null,
      "outputs": []
    },
    {
      "cell_type": "markdown",
      "source": [
        "## funkcje mieszane"
      ],
      "metadata": {
        "id": "sFEecx3P0O4K"
      }
    },
    {
      "cell_type": "code",
      "source": [
        "def tournamentSwapPMX(times, population, mutationPercentage,numberPMX):\n",
        "    newGen = []\n",
        "    while True:\n",
        "        parents = tournamentSelection(population, times)\n",
        "        child1, child2 = crossingPMX(*parents,numberPMX)\n",
        "        newGen.append(child1)\n",
        "        if len(newGen) == len(population):\n",
        "            break\n",
        "        newGen.append(child2)\n",
        "        if len(newGen) == len(population):\n",
        "            break\n",
        "\n",
        "    for i, child in enumerate(newGen):\n",
        "        if random.random() < mutationPercentage:\n",
        "            newGen[i] = mutateSwap(child)\n",
        "\n",
        "    return newGen"
      ],
      "metadata": {
        "id": "esOxNMurr5Cn"
      },
      "execution_count": null,
      "outputs": []
    },
    {
      "cell_type": "code",
      "source": [
        "def turnicationSwapPMX(times,population, mutationPercentage,numberPMX):\n",
        "    newGen = []\n",
        "    while True:\n",
        "        parents = turnicationSelection(population, times)\n",
        "        child1, child2 = crossingPMX(*parents,numberPMX)\n",
        "        newGen.append(child1)\n",
        "        if len(newGen) == len(population):\n",
        "            break\n",
        "        newGen.append(child2)\n",
        "        if len(newGen) == len(population):\n",
        "            break\n",
        "\n",
        "    for i, child in enumerate(newGen):\n",
        "        if random.random() < mutationPercentage:\n",
        "            newGen[i] = mutateSwap(child)\n",
        "\n",
        "    return newGen"
      ],
      "metadata": {
        "id": "rjVdLieTfmSn"
      },
      "execution_count": null,
      "outputs": []
    },
    {
      "cell_type": "code",
      "source": [
        "def tournamentInvertPMX(times, population, mutationPercentage,numberPMX):\n",
        "    newGen = []\n",
        "    while True:\n",
        "        parents = tournamentSelection(population, times)\n",
        "        child1, child2 = crossingPMX(*parents,numberPMX)\n",
        "        newGen.append(child1)\n",
        "        if len(newGen) == len(population):\n",
        "            break\n",
        "        newGen.append(child2)\n",
        "        if len(newGen) == len(population):\n",
        "            break\n",
        "\n",
        "    for i, child in enumerate(newGen):\n",
        "        if random.random() < mutationPercentage:\n",
        "            newGen[i] = mutateInvert(child)\n",
        "\n",
        "    return newGen"
      ],
      "metadata": {
        "id": "dre78rtsvzJK"
      },
      "execution_count": null,
      "outputs": []
    },
    {
      "cell_type": "code",
      "source": [
        "def tournamentSwapOX(times, population, mutationPercentage,numberOX):\n",
        "    newGen = []\n",
        "    while True:\n",
        "        parents = tournamentSelection(population, times)\n",
        "        child1, child2 = crossingOX(*parents, numberOX)\n",
        "        newGen.append(child1)\n",
        "        if len(newGen) == len(population):\n",
        "            break\n",
        "        newGen.append(child2)\n",
        "        if len(newGen) == len(population):\n",
        "            break\n",
        "\n",
        "    for i, child in enumerate(newGen):\n",
        "        if random.random() < mutationPercentage:\n",
        "            newGen[i] = mutateSwap(child)\n",
        "\n",
        "    return newGen"
      ],
      "metadata": {
        "id": "G-V0dwPNe8rC"
      },
      "execution_count": null,
      "outputs": []
    },
    {
      "cell_type": "markdown",
      "source": [
        "## Rodzaje mutacji\n"
      ],
      "metadata": {
        "id": "3yPvEYGZESEU"
      }
    },
    {
      "cell_type": "code",
      "source": [
        "\n",
        "def mutateSwap(X):\n",
        "  X = X[:]\n",
        "  length = len(X) - 1\n",
        "  swap1, swap2 = random.randint(0, length), random.randint(0, length)\n",
        "  X[swap1], X[swap2] = X[swap2], X[swap1]\n",
        "  return X\n"
      ],
      "metadata": {
        "id": "gywJ0mgor6Yy"
      },
      "execution_count": null,
      "outputs": []
    },
    {
      "cell_type": "code",
      "source": [
        "def mutateInvert(X):\n",
        "  arr = []\n",
        "  Xlen = len(X)\n",
        "  index1 = random.randint(0, Xlen - 1)\n",
        "  index2 = random.randint(0, Xlen - 1)\n",
        "  while index1 == index2:\n",
        "    index2 = random.randint(0, Xlen - 1)\n",
        "  if index1 > index2:\n",
        "    helper = index1\n",
        "    index1 = index2\n",
        "    index2 = helper\n",
        "  index1, index2\n",
        "  i = 0\n",
        "  j = 0\n",
        "  while i < index1:\n",
        "    arr.append(X[i])\n",
        "    i = i + 1\n",
        "  i = index2\n",
        "  while i >= index1:\n",
        "    arr.append(X[i])\n",
        "    i = i - 1\n",
        "  i = index2 + 1\n",
        "  while i <= Xlen - 1:\n",
        "    arr.append(X[i])\n",
        "    i = i + 1\n",
        "  return arr"
      ],
      "metadata": {
        "id": "ddg9jEOLcDZS"
      },
      "execution_count": null,
      "outputs": []
    },
    {
      "cell_type": "code",
      "source": [
        "def createSolutionSwap(X):\n",
        "  arr = []\n",
        "  Xlen = len(X)\n",
        "  index1 = random.randint(0, Xlen - 1)\n",
        "  index2 = random.randint(0, Xlen - 1)\n",
        "  print(index1, index2)\n",
        "  for j in range(Xlen):\n",
        "      if X[j] == index1:\n",
        "        arr.append(index2)\n",
        "      elif X[j] == index2:\n",
        "        arr.append(index1)\n",
        "      else:\n",
        "        arr.append(X[j])\n",
        "  return arr"
      ],
      "metadata": {
        "id": "WhFaDzK8cCur"
      },
      "execution_count": null,
      "outputs": []
    },
    {
      "cell_type": "markdown",
      "source": [
        "## Rodzaje doboru rodziców"
      ],
      "metadata": {
        "id": "wdneFpdqEVaT"
      }
    },
    {
      "cell_type": "code",
      "source": [
        "def tournamentSelection(population, times):\n",
        "  length = len(population)\n",
        "\n",
        "  A, B, C, D = random.randint(0,length-1),random.randint(0,length-1),random.randint(0,length-1),random.randint(0,length-1)\n",
        "  \n",
        "  if generateCompletedTime(times,population[A]) > generateCompletedTime(times,population[B]):\n",
        "    tourn1 = population[B]\n",
        "  else: \n",
        "    tourn1 = population[A]\n",
        "  if generateCompletedTime(times,population[C]) > generateCompletedTime(times,population[D]):\n",
        "    tourn2 = population[D]\n",
        "  else: \n",
        "    tourn2 = population[C]\n",
        "\n",
        "  return (tourn1, tourn2)\n"
      ],
      "metadata": {
        "id": "0hRIG0lmr71r"
      },
      "execution_count": null,
      "outputs": []
    },
    {
      "cell_type": "code",
      "source": [
        "def turnicationSelection(population,times):\n",
        "  length = len(population)\n",
        "  \n",
        "  population.sort(key= lambda x: generateCompletedTime(times, x))\n",
        "  rand1, rand2 = random.randint(0,length//1.5), random.randint(0,length//1.5)\n",
        "  parent1 = population[rand1]\n",
        "  parent2 = population[rand2]\n",
        "\n",
        "  return (parent1, parent2)"
      ],
      "metadata": {
        "id": "bAgijEhbZ5ht"
      },
      "execution_count": null,
      "outputs": []
    },
    {
      "cell_type": "markdown",
      "source": [
        "## Rodzaje krzyżowania"
      ],
      "metadata": {
        "id": "tBCS4CtzEYRs"
      }
    },
    {
      "cell_type": "code",
      "source": [
        "def crossingOX(parent1, parent2,n):\n",
        "  length = len(parent1)\n",
        "  point1 = random.randint(1,n)\n",
        "  point2 = random.randint(length-n,length-1)\n",
        "  child1 = [None]*length\n",
        "  child2 = [None]*length \n",
        "  #przepisanie\n",
        "  for i in range(point2-point1):\n",
        "    child1[point1+i]=parent1[point1+i]\n",
        "    child2[point1+i]=parent2[point1+i]\n",
        "  #uzupelnienie z drugiego rodzica\n",
        "  #dziecko 1\n",
        "  i = point2 #rodzic\n",
        "  j = point2 #dziecko\n",
        "  while i < length:\n",
        "    if(checkIfIncludes(parent2[i], child1)==0):\n",
        "      child1[j] = parent2[i]\n",
        "      j += 1\n",
        "      i += 1 \n",
        "    else:\n",
        "      i += 1\n",
        "    if j >= length:\n",
        "      j = 0\n",
        "  i = 0\n",
        "  while(i<point2):\n",
        "    if(checkIfIncludes(parent2[i], child1)==0):\n",
        "      child1[j] = parent2[i]\n",
        "      j += 1\n",
        "      i += 1 \n",
        "    else:\n",
        "      i += 1\n",
        "    if j >= length:\n",
        "      j = 0\n",
        "  i = point2\n",
        "  j = point2\n",
        "\n",
        "\n",
        "  while i < length:\n",
        "    if(checkIfIncludes(parent1[i], child2)==0):\n",
        "      child2[j] = parent1[i]\n",
        "      j += 1\n",
        "      i += 1 \n",
        "    else:\n",
        "      i += 1\n",
        "    if j >= length:\n",
        "      j = 0\n",
        "  i = 0\n",
        "  while(i<point2):\n",
        "    if(checkIfIncludes(parent1[i], child2)==0):\n",
        "      child2[j] = parent1[i]\n",
        "      j += 1\n",
        "      i += 1 \n",
        "    else:\n",
        "      i += 1\n",
        "    if j >= length:\n",
        "      j = 0\n",
        "  return child1, child2"
      ],
      "metadata": {
        "id": "Sb6-Zm0_dqbJ"
      },
      "execution_count": null,
      "outputs": []
    },
    {
      "cell_type": "code",
      "source": [
        "def crossingPMX(parent1, parent2,n):\n",
        "    length = len(parent1)\n",
        "\n",
        "    parent1, parent2 = parent1[:], parent2[:]\n",
        "\n",
        "    point1 = random.randint(1, n)\n",
        "    point2 = random.randint(length-n, length-1)\n",
        "    point1, point2 = sorted([point1, point2])\n",
        "\n",
        "    parent1[point1: point2], parent2[point1: point2] = (\n",
        "        parent2[point1: point2], parent1[point1: point2]\n",
        "    )\n",
        "\n",
        "    child1 = []\n",
        "    for i, gene in enumerate(parent1):\n",
        "        if i in range(point1, point2):\n",
        "            child1.append(gene)\n",
        "            continue\n",
        "        while gene in parent1[point1: point2]:\n",
        "            idx = parent1[point1: point2].index(gene)\n",
        "            gene = parent2[point1: point2][idx]\n",
        "        child1.append(gene)\n",
        "\n",
        "    child2 = []\n",
        "    for i, gene in enumerate(parent2):\n",
        "        if i in range(point1, point2):\n",
        "            child2.append(gene)\n",
        "            continue\n",
        "        while gene in parent2[point1: point2]:\n",
        "            idx = parent2[point1: point2].index(gene)\n",
        "            gene = parent1[point1: point2][idx]\n",
        "        child2.append(gene)\n",
        "\n",
        "    return child1, child2"
      ],
      "metadata": {
        "id": "vz9foVqkr9i5"
      },
      "execution_count": null,
      "outputs": []
    }
  ]
}